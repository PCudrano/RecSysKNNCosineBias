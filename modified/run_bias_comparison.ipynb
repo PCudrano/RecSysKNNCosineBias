{
 "cells": [
  {
   "cell_type": "markdown",
   "metadata": {
    "pycharm": {}
   },
   "source": [
    "# Run bias comparison"
   ]
  },
  {
   "cell_type": "markdown",
   "metadata": {
    "pycharm": {}
   },
   "source": [
    "#### Load libs"
   ]
  },
  {
   "cell_type": "code",
   "execution_count": 1,
   "metadata": {
    "pycharm": {}
   },
   "outputs": [],
   "source": [
    "import numpy as np\n",
    "import pandas as pd\n",
    "import matplotlib.pyplot as plt\n",
    "%matplotlib inline\n",
    "import scipy.sparse as sps"
   ]
  },
  {
   "cell_type": "code",
   "execution_count": 2,
   "metadata": {},
   "outputs": [],
   "source": [
    "from Data_manager.DataReader_ImportAll import *\n",
    "import multiprocessing, traceback, os\n",
    "from functools import  partial\n",
    "# TODO ADDED\n",
    "import skopt\n",
    "import datetime, time\n",
    "# TODO /ADDED\n",
    "\n",
    "from ParameterTuning.SearchAbstractClass import SearchInputRecommenderParameters\n",
    "from ParameterTuning.run_parameter_search import runParameterSearch_Content, runParameterSearch_Collaborative\n",
    "from Base.Evaluation.Evaluator import EvaluatorHoldout\n",
    "from Data_manager.DataSplitter_leave_k_out import DataSplitter_leave_k_out\n",
    "\n",
    "from KNN.ItemKNNCBFRecommender import ItemKNNCBFRecommender\n"
   ]
  },
  {
   "cell_type": "code",
   "execution_count": 3,
   "metadata": {},
   "outputs": [],
   "source": [
    "dataset_class = Movielens1MReader # Movielens10MReader # CiteULike_aReader\n",
    "feature_weighting = \"none\" # \"TF-IDF\" # \"BM25\" # \n",
    "allow_bias_ICM = False # True #\n",
    "#ICM_bias = None"
   ]
  },
  {
   "cell_type": "code",
   "execution_count": 4,
   "metadata": {},
   "outputs": [
    {
     "name": "stdout",
     "output_type": "stream",
     "text": [
      "DataSplitter_leave_k_out: Cold users not allowed\n",
      "DataSplitter_k_fold for DataReader: Movielens1M\n",
      "\t Num items: 3882\n",
      "\t Num users: 6039\n",
      " \t Train interactions: 986002, density: 4.21E-02\n",
      " \t Test interactions: 6039, density: 2.58E-04\n",
      "\t Validation interactions: 6039, density: 2.58E-04\n",
      "\n",
      "\n",
      "\n",
      "\t Statistics for ICM_genres: n_features 18, feature occurrences 6405, density: 9.17E-02\n",
      "\n",
      "\n",
      "DataSplitter_k_fold: Done.\n",
      "Available ICM:  ['ICM_genres']\n"
     ]
    }
   ],
   "source": [
    "similarity_type_list = [\"cosine\"]\n",
    "\n",
    "output_folder = \"result_experiments/{}\".format(dataset_class.DATASET_SUBFOLDER)\n",
    "if allow_bias_ICM:\n",
    "    output_folder += \"ICM_bias/\"\n",
    "else:\n",
    "    output_folder += \"ICM_original/\"\n",
    "output_folder += \"feature_weighting_\"+feature_weighting+\"/\"\n",
    "\n",
    "dataSplitter = DataSplitter_leave_k_out(dataset_class(), k_value=1, validation_set=True)\n",
    "dataSplitter.load_data()\n",
    "\n",
    "all_available_ICM_names = dataSplitter.get_loaded_ICM_names()\n",
    "\n",
    "print(\"Available ICM: \", all_available_ICM_names)\n",
    "\n",
    "ICM_name = all_available_ICM_names[0]\n"
   ]
  },
  {
   "cell_type": "code",
   "execution_count": 5,
   "metadata": {},
   "outputs": [
    {
     "name": "stdout",
     "output_type": "stream",
     "text": [
      "Processing ICM: 'ICM_genres'\n",
      "DataSplitter_leave_k_out: Cold users not allowed\n",
      "DataSplitter_k_fold for DataReader: Movielens1M\n",
      "\t Num items: 3882\n",
      "\t Num users: 6039\n",
      " \t Train interactions: 986002, density: 4.21E-02\n",
      " \t Test interactions: 6039, density: 2.58E-04\n",
      "\t Validation interactions: 6039, density: 2.58E-04\n",
      "\n",
      "\n",
      "\n",
      "\t Statistics for ICM_genres: n_features 18, feature occurrences 6405, density: 9.17E-02\n",
      "\n",
      "\n",
      "DataSplitter_k_fold: Done.\n"
     ]
    }
   ],
   "source": [
    "print(\"Processing ICM: '{}'\".format(ICM_name))\n",
    "\n",
    "dataset_object = dataset_class(ICM_to_load_list = [ICM_name])\n",
    "\n",
    "dataSplitter = DataSplitter_leave_k_out(dataset_object, k_value=1, validation_set=True)\n",
    "dataSplitter.load_data()\n",
    "\n",
    "ICM_object = dataSplitter.get_ICM_from_name(ICM_name)"
   ]
  },
  {
   "cell_type": "code",
   "execution_count": 6,
   "metadata": {},
   "outputs": [
    {
     "data": {
      "text/plain": [
       "array([1.])"
      ]
     },
     "execution_count": 6,
     "metadata": {},
     "output_type": "execute_result"
    }
   ],
   "source": [
    "ICM_object\n",
    "np.unique(ICM_object.data) # NB: 0 always included, cause ICM is sparse"
   ]
  },
  {
   "cell_type": "code",
   "execution_count": 7,
   "metadata": {},
   "outputs": [],
   "source": [
    "URM_train, URM_validation, URM_test = dataSplitter.get_holdout_split()"
   ]
  },
  {
   "cell_type": "code",
   "execution_count": 8,
   "metadata": {},
   "outputs": [],
   "source": [
    "evaluator_validation = EvaluatorHoldout(URM_validation, cutoff_list=[10])\n",
    "evaluator_test = EvaluatorHoldout(URM_test, cutoff_list=[5, 10, 15, 20, 25, 30])"
   ]
  },
  {
   "cell_type": "markdown",
   "metadata": {},
   "source": [
    "End setup, init recommend"
   ]
  },
  {
   "cell_type": "code",
   "execution_count": 23,
   "metadata": {},
   "outputs": [
    {
     "name": "stdout",
     "output_type": "stream",
     "text": [
      "ICM_bias: 0.0\n",
      "Similarity column 3882 ( 100 % ), 5923.49 column/sec, elapsed time 0.01 min\n",
      "EvaluatorHoldout: Processed 6039 ( 100.00% ) in 5.53 seconds. Users per second: 1092\n",
      "EvaluatorHoldout: Processed 6039 ( 100.00% ) in 25.91 seconds. Users per second: 233\n",
      "Train time:  0.7124190330505371\n",
      "Validation time:  5.5453269481658936\n",
      "Valid MAP@10: 0.010348344228125665\n",
      "Test time:  31.481015920639038\n",
      "Test MAP@10: 0.009980759980759993\n",
      "\n",
      "ICM_bias: 0.10526315789473684\n",
      "Similarity column 3882 ( 100 % ), 6184.51 column/sec, elapsed time 0.01 min\n",
      "EvaluatorHoldout: Processed 6039 ( 100.00% ) in 6.87 seconds. Users per second: 879\n",
      "EvaluatorHoldout: Processed 6039 ( 100.00% ) in 23.77 seconds. Users per second: 254\n",
      "Train time:  0.6723570823669434\n",
      "Validation time:  6.92483115196228\n",
      "Valid MAP@10: 0.010528456566707946\n",
      "Test time:  30.710914850234985\n",
      "Test MAP@10: 0.010125454387749483\n",
      "\n",
      "ICM_bias: 0.21052631578947367\n",
      "Similarity column 3882 ( 100 % ), 6234.37 column/sec, elapsed time 0.01 min\n",
      "EvaluatorHoldout: Processed 6039 ( 100.00% ) in 5.28 seconds. Users per second: 1144\n",
      "EvaluatorHoldout: Processed 6039 ( 100.00% ) in 27.01 seconds. Users per second: 224\n",
      "Train time:  0.6485753059387207\n",
      "Validation time:  5.280853033065796\n",
      "Valid MAP@10: 0.010596006907482332\n",
      "Test time:  32.34943628311157\n",
      "Test MAP@10: 0.010161332292479848\n",
      "\n",
      "ICM_bias: 0.3157894736842105\n",
      "Similarity column 3882 ( 100 % ), 4306.54 column/sec, elapsed time 0.02 min\n",
      "EvaluatorHoldout: Processed 6039 ( 100.00% ) in 7.73 seconds. Users per second: 782\n",
      "EvaluatorHoldout: Processed 6039 ( 100.00% ) in 29.86 seconds. Users per second: 202\n",
      "Train time:  0.9756250381469727\n",
      "Validation time:  7.727848291397095\n",
      "Valid MAP@10: 0.010540284447388285\n",
      "Test time:  37.609559059143066\n",
      "Test MAP@10: 0.01007505447396159\n",
      "\n",
      "ICM_bias: 0.42105263157894735\n",
      "Similarity column 3882 ( 100 % ), 6597.89 column/sec, elapsed time 0.01 min\n",
      "EvaluatorHoldout: Processed 6039 ( 100.00% ) in 8.70 seconds. Users per second: 694\n",
      "EvaluatorHoldout: Processed 5391 ( 89.27% ) in 30.00 seconds. Users per second: 180\n",
      "EvaluatorHoldout: Processed 6039 ( 100.00% ) in 32.49 seconds. Users per second: 186\n",
      "Train time:  0.647428035736084\n",
      "Validation time:  8.704128980636597\n",
      "Valid MAP@10: 0.010596138328378779\n",
      "Test time:  41.20942997932434\n",
      "Test MAP@10: 0.010248924319962584\n",
      "\n",
      "ICM_bias: 0.5263157894736842\n",
      "Similarity column 3882 ( 100 % ), 6496.79 column/sec, elapsed time 0.01 min\n",
      "EvaluatorHoldout: Processed 6039 ( 100.00% ) in 6.73 seconds. Users per second: 897\n",
      "EvaluatorHoldout: Processed 6039 ( 100.00% ) in 28.70 seconds. Users per second: 210\n",
      "Train time:  0.6955959796905518\n",
      "Validation time:  6.734884977340698\n",
      "Valid MAP@10: 0.010552046617620396\n",
      "Test time:  35.466233015060425\n",
      "Test MAP@10: 0.010421217115206199\n",
      "\n",
      "ICM_bias: 0.631578947368421\n",
      "Similarity column 3882 ( 100 % ), 5956.03 column/sec, elapsed time 0.01 min\n",
      "EvaluatorHoldout: Processed 6039 ( 100.00% ) in 5.32 seconds. Users per second: 1135\n",
      "EvaluatorHoldout: Processed 6039 ( 100.00% ) in 23.18 seconds. Users per second: 261\n",
      "Train time:  0.6899828910827637\n",
      "Validation time:  5.324666261672974\n",
      "Valid MAP@10: 0.010454992285593389\n",
      "Test time:  28.51041316986084\n",
      "Test MAP@10: 0.010197604459899553\n",
      "\n",
      "ICM_bias: 0.7368421052631579\n",
      "Similarity column 3882 ( 100 % ), 6627.83 column/sec, elapsed time 0.01 min\n",
      "EvaluatorHoldout: Processed 6039 ( 100.00% ) in 4.81 seconds. Users per second: 1257\n",
      "EvaluatorHoldout: Processed 6039 ( 100.00% ) in 22.08 seconds. Users per second: 274\n",
      "Train time:  0.6521120071411133\n",
      "Validation time:  4.8156280517578125\n",
      "Valid MAP@10: 0.010782493159542349\n",
      "Test time:  26.900740146636963\n",
      "Test MAP@10: 0.010122234575786499\n",
      "\n",
      "ICM_bias: 0.8421052631578947\n",
      "Similarity column 3882 ( 100 % ), 6025.35 column/sec, elapsed time 0.01 min\n",
      "EvaluatorHoldout: Processed 6039 ( 100.00% ) in 5.11 seconds. Users per second: 1181\n",
      "EvaluatorHoldout: Processed 6039 ( 100.00% ) in 21.78 seconds. Users per second: 277\n",
      "Train time:  0.7017009258270264\n",
      "Validation time:  5.12372899055481\n",
      "Valid MAP@10: 0.010388559022438815\n",
      "Test time:  26.91640591621399\n",
      "Test MAP@10: 0.01027382857983952\n",
      "\n",
      "ICM_bias: 0.9473684210526315\n",
      "Similarity column 3882 ( 100 % ), 6531.55 column/sec, elapsed time 0.01 min\n",
      "EvaluatorHoldout: Processed 6039 ( 100.00% ) in 5.10 seconds. Users per second: 1183\n",
      "EvaluatorHoldout: Processed 6039 ( 100.00% ) in 22.47 seconds. Users per second: 269\n",
      "Train time:  0.6497042179107666\n",
      "Validation time:  5.108458042144775\n",
      "Valid MAP@10: 0.010746878096604887\n",
      "Test time:  27.598138093948364\n",
      "Test MAP@10: 0.010341444631062128\n",
      "\n",
      "ICM_bias: 1.0526315789473684\n",
      "Similarity column 3882 ( 100 % ), 6386.41 column/sec, elapsed time 0.01 min\n",
      "EvaluatorHoldout: Processed 6039 ( 100.00% ) in 4.94 seconds. Users per second: 1224\n",
      "EvaluatorHoldout: Processed 6039 ( 100.00% ) in 21.40 seconds. Users per second: 282\n",
      "Train time:  0.6431312561035156\n",
      "Validation time:  4.943590879440308\n",
      "Valid MAP@10: 0.010166851970130671\n",
      "Test time:  26.354771852493286\n",
      "Test MAP@10: 0.010189850627009113\n",
      "\n",
      "ICM_bias: 1.1578947368421053\n",
      "Similarity column 3882 ( 100 % ), 6350.04 column/sec, elapsed time 0.01 min\n",
      "EvaluatorHoldout: Processed 6039 ( 100.00% ) in 4.88 seconds. Users per second: 1237\n",
      "EvaluatorHoldout: Processed 6039 ( 100.00% ) in 21.34 seconds. Users per second: 283\n",
      "Train time:  0.6786518096923828\n",
      "Validation time:  4.892131090164185\n",
      "Valid MAP@10: 0.010786107234194679\n",
      "Test time:  26.241186141967773\n",
      "Test MAP@10: 0.010276785550009606\n",
      "\n",
      "ICM_bias: 1.263157894736842\n",
      "Similarity column 3882 ( 100 % ), 6421.06 column/sec, elapsed time 0.01 min\n",
      "EvaluatorHoldout: Processed 6039 ( 100.00% ) in 4.90 seconds. Users per second: 1232\n",
      "EvaluatorHoldout: Processed 6039 ( 100.00% ) in 20.76 seconds. Users per second: 291\n",
      "Train time:  0.6645641326904297\n",
      "Validation time:  4.906358003616333\n",
      "Valid MAP@10: 0.010354126747569385\n",
      "Test time:  25.67018699645996\n",
      "Test MAP@10: 0.00977902890471197\n",
      "\n",
      "ICM_bias: 1.3684210526315788\n",
      "Similarity column 3882 ( 100 % ), 6680.53 column/sec, elapsed time 0.01 min\n",
      "EvaluatorHoldout: Processed 6039 ( 100.00% ) in 4.87 seconds. Users per second: 1240\n",
      "EvaluatorHoldout: Processed 6039 ( 100.00% ) in 20.76 seconds. Users per second: 291\n",
      "Train time:  0.6395969390869141\n",
      "Validation time:  4.8749730587005615\n",
      "Valid MAP@10: 0.010193136149420315\n",
      "Test time:  25.644392013549805\n",
      "Test MAP@10: 0.010195107462867035\n",
      "\n",
      "ICM_bias: 1.4736842105263157\n",
      "Similarity column 3882 ( 100 % ), 6177.60 column/sec, elapsed time 0.01 min\n",
      "EvaluatorHoldout: Processed 6039 ( 100.00% ) in 5.18 seconds. Users per second: 1167\n",
      "EvaluatorHoldout: Processed 6039 ( 100.00% ) in 21.03 seconds. Users per second: 287\n",
      "Train time:  0.6719040870666504\n",
      "Validation time:  5.1842732429504395\n",
      "Valid MAP@10: 0.010117634844410814\n",
      "Test time:  26.238054275512695\n",
      "Test MAP@10: 0.010127557122092658\n",
      "\n",
      "ICM_bias: 1.5789473684210527\n",
      "Similarity column 3882 ( 100 % ), 6307.44 column/sec, elapsed time 0.01 min\n",
      "EvaluatorHoldout: Processed 6039 ( 100.00% ) in 5.04 seconds. Users per second: 1199\n",
      "EvaluatorHoldout: Processed 6039 ( 100.00% ) in 21.39 seconds. Users per second: 282\n",
      "Train time:  0.6739768981933594\n",
      "Validation time:  5.040529012680054\n",
      "Valid MAP@10: 0.00998450547630877\n",
      "Test time:  26.440711736679077\n",
      "Test MAP@10: 0.00975471603886906\n",
      "\n",
      "ICM_bias: 1.6842105263157894\n",
      "Similarity column 3882 ( 100 % ), 6724.49 column/sec, elapsed time 0.01 min\n",
      "EvaluatorHoldout: Processed 6039 ( 100.00% ) in 4.98 seconds. Users per second: 1212\n",
      "EvaluatorHoldout: Processed 6039 ( 100.00% ) in 21.26 seconds. Users per second: 284\n",
      "Train time:  0.6382217407226562\n",
      "Validation time:  4.990886211395264\n",
      "Valid MAP@10: 0.010248201505032117\n",
      "Test time:  26.273988008499146\n",
      "Test MAP@10: 0.00996945778366545\n",
      "\n",
      "ICM_bias: 1.789473684210526\n",
      "Similarity column 3882 ( 100 % ), 6589.27 column/sec, elapsed time 0.01 min\n",
      "EvaluatorHoldout: Processed 6039 ( 100.00% ) in 4.85 seconds. Users per second: 1244\n",
      "EvaluatorHoldout: Processed 6039 ( 100.00% ) in 21.19 seconds. Users per second: 285\n",
      "Train time:  0.6269879341125488\n",
      "Validation time:  4.859380006790161\n",
      "Valid MAP@10: 0.009917086556430829\n",
      "Test time:  26.05743718147278\n",
      "Test MAP@10: 0.00955903032405766\n",
      "\n",
      "ICM_bias: 1.894736842105263\n",
      "Similarity column 3882 ( 100 % ), 5938.94 column/sec, elapsed time 0.01 min\n",
      "EvaluatorHoldout: Processed 6039 ( 100.00% ) in 5.04 seconds. Users per second: 1197\n",
      "EvaluatorHoldout: Processed 6039 ( 100.00% ) in 21.33 seconds. Users per second: 283\n",
      "Train time:  0.706268310546875\n",
      "Validation time:  5.048447132110596\n",
      "Valid MAP@10: 0.009958812691053138\n",
      "Test time:  26.389490127563477\n",
      "Test MAP@10: 0.009452250845693485\n",
      "\n",
      "ICM_bias: 2.0\n",
      "Similarity column 3882 ( 100 % ), 6049.42 column/sec, elapsed time 0.01 min\n",
      "EvaluatorHoldout: Processed 6039 ( 100.00% ) in 5.00 seconds. Users per second: 1207\n",
      "EvaluatorHoldout: Processed 6039 ( 100.00% ) in 20.14 seconds. Users per second: 300\n",
      "Train time:  0.6928470134735107\n",
      "Validation time:  5.021197080612183\n",
      "Valid MAP@10: 0.010138596477394297\n",
      "Test time:  25.171398878097534\n",
      "Test MAP@10: 0.009413153129000137\n",
      "\n"
     ]
    }
   ],
   "source": [
    "n_tests = 20\n",
    "ICM_bias_min = 0 # min(0, np.min(ICM_object.data))\n",
    "ICM_bias_max = 2 # np.max(ICM_object.data)\n",
    "\n",
    "cutoff = 10\n",
    "valid_results_MAP_at_cutoff = []\n",
    "test_results_MAP_at_cutoff = []\n",
    "\n",
    "ICM_bias_arr = np.linspace(0, ICM_bias_max, n_tests)\n",
    "\n",
    "for ICM_bias in ICM_bias_arr:\n",
    "    recommender_class = ItemKNNCBFRecommender\n",
    "    recommender_parameters = SearchInputRecommenderParameters(\n",
    "        CONSTRUCTOR_POSITIONAL_ARGS = [ICM_object, URM_train],\n",
    "        CONSTRUCTOR_KEYWORD_ARGS = {},\n",
    "        FIT_POSITIONAL_ARGS = [],\n",
    "        FIT_KEYWORD_ARGS = {\n",
    "            'topK': 50,\n",
    "            'shrink': 100, \n",
    "            'similarity': 'cosine',\n",
    "            'normalize': True,\n",
    "            'feature_weighting': feature_weighting,\n",
    "            'ICM_bias': ICM_bias,\n",
    "            #**similarity_args\n",
    "        }\n",
    "    )\n",
    "    \n",
    "    print(\"ICM_bias: {}\".format(ICM_bias))\n",
    "    \n",
    "    start_time = time.time()\n",
    "\n",
    "    # Construct a new recommender instance\n",
    "    recommender_instance = recommender_class(*recommender_parameters.CONSTRUCTOR_POSITIONAL_ARGS,\n",
    "                                             **recommender_parameters.CONSTRUCTOR_KEYWORD_ARGS)\n",
    "\n",
    "    recommender_instance.fit(*recommender_parameters.FIT_POSITIONAL_ARGS,\n",
    "                             **recommender_parameters.FIT_KEYWORD_ARGS)\n",
    "    #                          **current_fit_parameters,\n",
    "    #                          **self.hyperparams_single_value)\n",
    "\n",
    "    train_time = time.time() - start_time\n",
    "    start_time = time.time()\n",
    "\n",
    "    # Evaluate recommender and get results for the first cutoff\n",
    "    evaluation_result_dict, evaluation_result_string = evaluator_validation.evaluateRecommender(recommender_instance)\n",
    "    #evaluation_result_dict = evaluation_result_dict[list(evaluation_result_dict.keys())[0]]\n",
    "\n",
    "    evaluation_time = time.time() - start_time\n",
    "\n",
    "    # Evaluate recommender and get results for the first cutoff\n",
    "    test_result_dict, test_result_string = evaluator_test.evaluateRecommender(recommender_instance)\n",
    "    #test_result_dict = test_result_dict[list(test_result_dict.keys())[0]]\n",
    "\n",
    "    test_time = time.time() - start_time\n",
    "\n",
    "    # result MAP\n",
    "    valid_MAP_at_cutoff = evaluation_result_dict[cutoff]['MAP']\n",
    "    test_MAP_at_cutoff = test_result_dict[cutoff]['MAP']\n",
    "\n",
    "    print('Train time: ', train_time)\n",
    "    # print()\n",
    "    print('Validation time: ', evaluation_time)\n",
    "    # print('Validation result:', evaluation_result_string)\n",
    "    print(\"Valid MAP@{}: {}\".format(cutoff, valid_MAP_at_cutoff))\n",
    "    print('Test time: ', test_time)\n",
    "    # print('Test result:', test_result_string)\n",
    "    print(\"Test MAP@{}: {}\".format(cutoff, test_MAP_at_cutoff))\n",
    "    print()\n",
    "        \n",
    "    valid_results_MAP_at_cutoff.append(valid_MAP_at_cutoff)\n",
    "    test_results_MAP_at_cutoff.append(test_MAP_at_cutoff)"
   ]
  },
  {
   "cell_type": "code",
   "execution_count": 24,
   "metadata": {},
   "outputs": [
    {
     "data": {
      "image/png": "[encoded data removed]",
      "text/plain": [
       "<Figure size 432x288 with 1 Axes>"
      ]
     },
     "metadata": {
      "needs_background": "light"
     },
     "output_type": "display_data"
    }
   ],
   "source": [
    "# plt.bar(np.arange(len(valid_results_MAP_at_cutoff)), valid_results_MAP_at_cutoff, align='center')\n",
    "# plt.xticks(np.arange(len(valid_results_MAP_at_cutoff)), ICM_bias_arr)\n",
    "plt.plot(ICM_bias_arr, valid_results_MAP_at_cutoff)\n",
    "plt.ylabel('Valid MAP')\n",
    "plt.xlabel('ICM_bias')\n",
    "plt.show()"
   ]
  },
  {
   "cell_type": "code",
   "execution_count": 25,
   "metadata": {},
   "outputs": [
    {
     "data": {
      "image/png": "[encoded data removed]",
      "text/plain": [
       "<Figure size 432x288 with 1 Axes>"
      ]
     },
     "metadata": {
      "needs_background": "light"
     },
     "output_type": "display_data"
    }
   ],
   "source": [
    "# plt.bar(np.arange(len(test_results_MAP_at_cutoff)), test_results_MAP_at_cutoff, align='center')\n",
    "# plt.xticks(np.arange(len(test_results_MAP_at_cutoff)), ICM_bias_arr)\n",
    "plt.plot(ICM_bias_arr, test_results_MAP_at_cutoff)\n",
    "plt.ylabel('Test MAP')\n",
    "plt.xlabel('ICM_bias')\n",
    "plt.show()"
   ]
  },
  {
   "cell_type": "markdown",
   "metadata": {},
   "source": [
    "Seems to give benefits.\n",
    "\n",
    "Notice that large part of curve is above value at 0 (no bias).\n",
    "\n",
    "Notices also that peaks are within 0-1 (ICM is indeed in 0-1)\n",
    "\n",
    "TODO: repeat analysis around the best params taken from main runs"
   ]
  },
  {
   "cell_type": "code",
   "execution_count": null,
   "metadata": {
    "pycharm": {}
   },
   "outputs": [],
   "source": []
  }
 ],
 "metadata": {
  "anaconda-cloud": {},
  "kernelspec": {
   "display_name": "Python 3",
   "language": "python",
   "name": "python3"
  },
  "language_info": {
   "codemirror_mode": {
    "name": "ipython",
    "version": 3
   },
   "file_extension": ".py",
   "mimetype": "text/x-python",
   "name": "python",
   "nbconvert_exporter": "python",
   "pygments_lexer": "ipython3",
   "version": "3.6.7"
  }
 },
 "nbformat": 4,
 "nbformat_minor": 2
}
