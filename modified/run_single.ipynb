{
 "cells": [
  {
   "cell_type": "markdown",
   "metadata": {
    "pycharm": {}
   },
   "source": [
    "# Run single CBF with bias with specified dataset and parameters"
   ]
  },
  {
   "cell_type": "code",
   "execution_count": null,
   "metadata": {
    "pycharm": {
     "is_executing": false
    }
   },
   "outputs": [],
   "source": [
    "pwd"
   ]
  },
  {
   "cell_type": "code",
   "execution_count": null,
   "metadata": {
    "pycharm": {
     "is_executing": false
    }
   },
   "outputs": [],
   "source": [
    "cd .."
   ]
  },
  {
   "cell_type": "markdown",
   "metadata": {
    "pycharm": {}
   },
   "source": [
    "#### Load libs"
   ]
  },
  {
   "cell_type": "code",
   "execution_count": null,
   "metadata": {
    "pycharm": {
     "is_executing": false,
     "name": "#%%\n"
    }
   },
   "outputs": [],
   "source": [
    "import numpy as np\n",
    "import pandas as pd\n",
    "import matplotlib.pyplot as pyplot\n",
    "%matplotlib inline\n",
    "import scipy.sparse as sps"
   ]
  },
  {
   "cell_type": "code",
   "execution_count": null,
   "metadata": {
    "pycharm": {
     "is_executing": false
    }
   },
   "outputs": [],
   "source": [
    "from Data_manager.DataReader_ImportAll import *\n",
    "import multiprocessing, traceback, os\n",
    "from functools import  partial\n",
    "# TODO ADDED\n",
    "import skopt\n",
    "import datetime, time\n",
    "# TODO /ADDED\n",
    "\n",
    "from ParameterTuning.SearchAbstractClass import SearchInputRecommenderParameters\n",
    "from ParameterTuning.run_parameter_search import runParameterSearch_Content, runParameterSearch_Collaborative\n",
    "from Base.Evaluation.Evaluator import EvaluatorHoldout\n",
    "from Data_manager.DataSplitter_leave_k_out import DataSplitter_leave_k_out\n",
    "\n",
    "from KNN.ItemKNNCBFRecommender import ItemKNNCBFRecommender\n"
   ]
  },
  {
   "cell_type": "code",
   "execution_count": null,
   "metadata": {
    "pycharm": {
     "is_executing": false
    }
   },
   "outputs": [],
   "source": [
    "dataset_class = Movielens20MReader # Movielens10MReader # CiteULike_aReader\n",
    "feature_weighting = \"none\" # \"TF-IDF\" # \"BM25\" # \n",
    "allow_bias_ICM = False\n",
    "ICM_bias = None # None or float"
   ]
  },
  {
   "cell_type": "code",
   "execution_count": null,
   "metadata": {
    "pycharm": {
     "is_executing": false
    }
   },
   "outputs": [],
   "source": [
    "similarity_type_list = [\"cosine\"]\n",
    "\n",
    "output_folder = \"result_experiments/{}\".format(dataset_class.DATASET_SUBFOLDER)\n",
    "if allow_bias_ICM:\n",
    "    output_folder += \"ICM_bias/\"\n",
    "else:\n",
    "    output_folder += \"ICM_original/\"\n",
    "output_folder += \"feature_weighting_\"+feature_weighting+\"/\"\n",
    "\n",
    "dataSplitter = DataSplitter_leave_k_out(dataset_class(), k_value=1, validation_set=True)\n",
    "dataSplitter.load_data()\n",
    "\n",
    "all_available_ICM_names = dataSplitter.get_loaded_ICM_names()\n",
    "\n",
    "print(\"Available ICM: \", all_available_ICM_names)\n",
    "\n",
    "ICM_name = all_available_ICM_names[0]\n"
   ]
  },
  {
   "cell_type": "code",
   "execution_count": null,
   "metadata": {
    "pycharm": {
     "is_executing": false
    }
   },
   "outputs": [],
   "source": [
    "print(\"Processing ICM: '{}'\".format(ICM_name))\n",
    "\n",
    "dataset_object = dataset_class(ICM_to_load_list = [ICM_name])\n",
    "\n",
    "dataSplitter = DataSplitter_leave_k_out(dataset_object, k_value=1, validation_set=True)\n",
    "dataSplitter.load_data()\n",
    "\n",
    "ICM_object = dataSplitter.get_ICM_from_name(ICM_name)"
   ]
  },
  {
   "cell_type": "code",
   "execution_count": null,
   "metadata": {
    "pycharm": {
     "is_executing": false
    }
   },
   "outputs": [],
   "source": [
    "ICM_object\n",
    "np.unique(ICM_object.data) # NB: 0 always included, cause ICM is sparse"
   ]
  },
  {
   "cell_type": "code",
   "execution_count": null,
   "metadata": {
    "pycharm": {
     "is_executing": false
    }
   },
   "outputs": [],
   "source": [
    "URM_train, URM_validation, URM_test = dataSplitter.get_holdout_split()"
   ]
  },
  {
   "cell_type": "code",
   "execution_count": null,
   "metadata": {
    "pycharm": {
     "is_executing": false
    }
   },
   "outputs": [],
   "source": [
    "evaluator_validation = EvaluatorHoldout(URM_validation, cutoff_list=[10])\n",
    "evaluator_test = EvaluatorHoldout(URM_test, cutoff_list=[5, 10, 15, 20, 25, 30])"
   ]
  },
  {
   "cell_type": "code",
   "execution_count": null,
   "metadata": {
    "pycharm": {
     "is_executing": false
    }
   },
   "outputs": [],
   "source": [
    "recommender_class = ItemKNNCBFRecommender\n",
    "recommender_parameters = SearchInputRecommenderParameters(\n",
    "    CONSTRUCTOR_POSITIONAL_ARGS = [ICM_object, URM_train],\n",
    "    CONSTRUCTOR_KEYWORD_ARGS = {},\n",
    "    FIT_POSITIONAL_ARGS = [],\n",
    "    FIT_KEYWORD_ARGS = {\n",
    "        'topK': 50,\n",
    "        'shrink': 100, \n",
    "        'similarity': 'cosine',\n",
    "        'normalize': True,\n",
    "        'feature_weighting': feature_weighting,\n",
    "        'ICM_bias': ICM_bias,\n",
    "        #**similarity_args\n",
    "    }\n",
    ")"
   ]
  },
  {
   "cell_type": "code",
   "execution_count": null,
   "metadata": {
    "pycharm": {
     "is_executing": false
    }
   },
   "outputs": [],
   "source": [
    "start_time = time.time()\n",
    "\n",
    "# Construct a new recommender instance\n",
    "recommender_instance = recommender_class(*recommender_parameters.CONSTRUCTOR_POSITIONAL_ARGS,\n",
    "                                         **recommender_parameters.CONSTRUCTOR_KEYWORD_ARGS)\n",
    "\n",
    "recommender_instance.fit(*recommender_parameters.FIT_POSITIONAL_ARGS,\n",
    "                         **recommender_parameters.FIT_KEYWORD_ARGS)\n",
    "#                          **current_fit_parameters,\n",
    "#                          **self.hyperparams_single_value)\n",
    "\n",
    "train_time = time.time() - start_time\n",
    "start_time = time.time()"
   ]
  },
  {
   "cell_type": "code",
   "execution_count": null,
   "metadata": {},
   "outputs": [],
   "source": [
    "# Evaluate recommender and get results for the first cutoff\n",
    "evaluation_result_dict, evaluation_result_string = evaluator_validation.evaluateRecommender(recommender_instance)\n",
    "# evaluation_result_dict = evaluation_result_dict[list(evaluation_result_dict.keys())[0]]\n",
    "\n",
    "evaluation_time = time.time() - start_time"
   ]
  },
  {
   "cell_type": "code",
   "execution_count": null,
   "metadata": {},
   "outputs": [],
   "source": [
    "# Evaluate recommender and get results for the first cutoff\n",
    "test_result_dict, test_result_string = evaluator_test.evaluateRecommender(recommender_instance)\n",
    "# test_result_dict = test_result_dict[list(test_result_dict.keys())[0]]\n",
    "\n",
    "test_time = time.time() - start_time"
   ]
  },
  {
   "cell_type": "code",
   "execution_count": null,
   "metadata": {},
   "outputs": [],
   "source": [
    "print('Train time: ', train_time)\n",
    "print()\n",
    "print('Validation time: ', evaluation_time)\n",
    "print('Validation result:', evaluation_result_string)\n",
    "print('Test time: ', test_time)\n",
    "print('Test result:', test_result_string)"
   ]
  },
  {
   "cell_type": "code",
   "execution_count": null,
   "metadata": {},
   "outputs": [],
   "source": []
  }
 ],
 "metadata": {
  "anaconda-cloud": {},
  "kernelspec": {
   "display_name": "Python 3",
   "language": "python",
   "name": "python3"
  },
  "language_info": {
   "codemirror_mode": {
    "name": "ipython",
    "version": 3
   },
   "file_extension": ".py",
   "mimetype": "text/x-python",
   "name": "python",
   "nbconvert_exporter": "python",
   "pygments_lexer": "ipython3",
   "version": "3.6.7"
  },
  "pycharm": {
   "stem_cell": {
    "cell_type": "raw",
    "metadata": {
     "collapsed": false
    },
    "source": []
   }
  }
 },
 "nbformat": 4,
 "nbformat_minor": 2
}
