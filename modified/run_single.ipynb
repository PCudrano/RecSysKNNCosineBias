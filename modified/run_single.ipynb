{
 "cells": [
  {
   "cell_type": "markdown",
   "metadata": {
    "pycharm": {}
   },
   "source": [
    "# Run bias comparison"
   ]
  },
  {
   "cell_type": "markdown",
   "metadata": {
    "pycharm": {}
   },
   "source": [
    "#### Load libs"
   ]
  },
  {
   "cell_type": "code",
   "execution_count": 1,
   "metadata": {
    "pycharm": {}
   },
   "outputs": [],
   "source": [
    "import numpy as np\n",
    "import pandas as pd\n",
    "import matplotlib.pyplot as pyplot\n",
    "%matplotlib inline\n",
    "import scipy.sparse as sps"
   ]
  },
  {
   "cell_type": "code",
   "execution_count": 2,
   "metadata": {},
   "outputs": [],
   "source": [
    "from Data_manager.DataReader_ImportAll import *\n",
    "import multiprocessing, traceback, os\n",
    "from functools import  partial\n",
    "# TODO ADDED\n",
    "import skopt\n",
    "import datetime, time\n",
    "# TODO /ADDED\n",
    "\n",
    "from ParameterTuning.SearchAbstractClass import SearchInputRecommenderParameters\n",
    "from ParameterTuning.run_parameter_search import runParameterSearch_Content, runParameterSearch_Collaborative\n",
    "from Base.Evaluation.Evaluator import EvaluatorHoldout\n",
    "from Data_manager.DataSplitter_leave_k_out import DataSplitter_leave_k_out\n",
    "\n",
    "from KNN.ItemKNNCBFRecommender import ItemKNNCBFRecommender\n"
   ]
  },
  {
   "cell_type": "code",
   "execution_count": 3,
   "metadata": {},
   "outputs": [],
   "source": [
    "dataset_class = Movielens1MReader # Movielens10MReader # CiteULike_aReader\n",
    "feature_weighting = \"none\" # \"TF-IDF\" # \"BM25\" # \n",
    "allow_bias_ICM = False\n",
    "ICM_bias = None # None or float"
   ]
  },
  {
   "cell_type": "code",
   "execution_count": 4,
   "metadata": {},
   "outputs": [
    {
     "name": "stdout",
     "output_type": "stream",
     "text": [
      "DataSplitter_leave_k_out: Cold users not allowed\n",
      "DataSplitter_k_fold for DataReader: Movielens1M\n",
      "\t Num items: 3882\n",
      "\t Num users: 6039\n",
      " \t Train interactions: 986002, density: 4.21E-02\n",
      " \t Test interactions: 6039, density: 2.58E-04\n",
      "\t Validation interactions: 6039, density: 2.58E-04\n",
      "\n",
      "\n",
      "\n",
      "\t Statistics for ICM_genres: n_features 18, feature occurrences 6405, density: 9.17E-02\n",
      "\n",
      "\n",
      "DataSplitter_k_fold: Done.\n",
      "Available ICM:  ['ICM_genres']\n"
     ]
    }
   ],
   "source": [
    "similarity_type_list = [\"cosine\"]\n",
    "\n",
    "output_folder = \"result_experiments/{}\".format(dataset_class.DATASET_SUBFOLDER)\n",
    "if allow_bias_ICM:\n",
    "    output_folder += \"ICM_bias/\"\n",
    "else:\n",
    "    output_folder += \"ICM_original/\"\n",
    "output_folder += \"feature_weighting_\"+feature_weighting+\"/\"\n",
    "\n",
    "dataSplitter = DataSplitter_leave_k_out(dataset_class(), k_value=1, validation_set=True)\n",
    "dataSplitter.load_data()\n",
    "\n",
    "all_available_ICM_names = dataSplitter.get_loaded_ICM_names()\n",
    "\n",
    "print(\"Available ICM: \", all_available_ICM_names)\n",
    "\n",
    "ICM_name = all_available_ICM_names[0]\n"
   ]
  },
  {
   "cell_type": "code",
   "execution_count": 5,
   "metadata": {},
   "outputs": [
    {
     "name": "stdout",
     "output_type": "stream",
     "text": [
      "Processing ICM: 'ICM_genres'\n",
      "DataSplitter_leave_k_out: Cold users not allowed\n",
      "DataSplitter_k_fold for DataReader: Movielens1M\n",
      "\t Num items: 3882\n",
      "\t Num users: 6039\n",
      " \t Train interactions: 986002, density: 4.21E-02\n",
      " \t Test interactions: 6039, density: 2.58E-04\n",
      "\t Validation interactions: 6039, density: 2.58E-04\n",
      "\n",
      "\n",
      "\n",
      "\t Statistics for ICM_genres: n_features 18, feature occurrences 6405, density: 9.17E-02\n",
      "\n",
      "\n",
      "DataSplitter_k_fold: Done.\n"
     ]
    }
   ],
   "source": [
    "print(\"Processing ICM: '{}'\".format(ICM_name))\n",
    "\n",
    "dataset_object = dataset_class(ICM_to_load_list = [ICM_name])\n",
    "\n",
    "dataSplitter = DataSplitter_leave_k_out(dataset_object, k_value=1, validation_set=True)\n",
    "dataSplitter.load_data()\n",
    "\n",
    "ICM_object = dataSplitter.get_ICM_from_name(ICM_name)"
   ]
  },
  {
   "cell_type": "code",
   "execution_count": 6,
   "metadata": {},
   "outputs": [
    {
     "data": {
      "text/plain": [
       "array([1.])"
      ]
     },
     "execution_count": 6,
     "metadata": {},
     "output_type": "execute_result"
    }
   ],
   "source": [
    "ICM_object\n",
    "np.unique(ICM_object.data) # NB: 0 always included, cause ICM is sparse"
   ]
  },
  {
   "cell_type": "code",
   "execution_count": 7,
   "metadata": {},
   "outputs": [],
   "source": [
    "URM_train, URM_validation, URM_test = dataSplitter.get_holdout_split()"
   ]
  },
  {
   "cell_type": "code",
   "execution_count": 8,
   "metadata": {},
   "outputs": [],
   "source": [
    "evaluator_validation = EvaluatorHoldout(URM_validation, cutoff_list=[10])\n",
    "evaluator_test = EvaluatorHoldout(URM_test, cutoff_list=[5, 10, 15, 20, 25, 30])"
   ]
  },
  {
   "cell_type": "code",
   "execution_count": 9,
   "metadata": {},
   "outputs": [],
   "source": [
    "recommender_class = ItemKNNCBFRecommender\n",
    "recommender_parameters = SearchInputRecommenderParameters(\n",
    "    CONSTRUCTOR_POSITIONAL_ARGS = [ICM_object, URM_train],\n",
    "    CONSTRUCTOR_KEYWORD_ARGS = {},\n",
    "    FIT_POSITIONAL_ARGS = [],\n",
    "    FIT_KEYWORD_ARGS = {\n",
    "        'topK': 50,\n",
    "        'shrink': 100, \n",
    "        'similarity': 'cosine',\n",
    "        'normalize': True,\n",
    "        'feature_weighting': feature_weighting,\n",
    "        'ICM_bias': ICM_bias,\n",
    "        #**similarity_args\n",
    "    }\n",
    ")"
   ]
  },
  {
   "cell_type": "code",
   "execution_count": 10,
   "metadata": {},
   "outputs": [
    {
     "name": "stdout",
     "output_type": "stream",
     "text": [
      "Similarity column 3882 ( 100 % ), 4144.27 column/sec, elapsed time 0.02 min\n"
     ]
    }
   ],
   "source": [
    "start_time = time.time()\n",
    "\n",
    "# Construct a new recommender instance\n",
    "recommender_instance = recommender_class(*recommender_parameters.CONSTRUCTOR_POSITIONAL_ARGS,\n",
    "                                         **recommender_parameters.CONSTRUCTOR_KEYWORD_ARGS)\n",
    "\n",
    "recommender_instance.fit(*recommender_parameters.FIT_POSITIONAL_ARGS,\n",
    "                         **recommender_parameters.FIT_KEYWORD_ARGS)\n",
    "#                          **current_fit_parameters,\n",
    "#                          **self.hyperparams_single_value)\n",
    "\n",
    "train_time = time.time() - start_time\n",
    "start_time = time.time()"
   ]
  },
  {
   "cell_type": "code",
   "execution_count": 11,
   "metadata": {},
   "outputs": [
    {
     "name": "stdout",
     "output_type": "stream",
     "text": [
      "EvaluatorHoldout: Processed 6039 ( 100.00% ) in 7.72 seconds. Users per second: 782\n"
     ]
    }
   ],
   "source": [
    "# Evaluate recommender and get results for the first cutoff\n",
    "evaluation_result_dict, evaluation_result_string = evaluator_validation.evaluateRecommender(recommender_instance)\n",
    "# evaluation_result_dict = evaluation_result_dict[list(evaluation_result_dict.keys())[0]]\n",
    "\n",
    "evaluation_time = time.time() - start_time"
   ]
  },
  {
   "cell_type": "code",
   "execution_count": 12,
   "metadata": {},
   "outputs": [
    {
     "name": "stdout",
     "output_type": "stream",
     "text": [
      "EvaluatorHoldout: Processed 5333 ( 88.31% ) in 30.00 seconds. Users per second: 178\n",
      "EvaluatorHoldout: Processed 6039 ( 100.00% ) in 33.77 seconds. Users per second: 179\n"
     ]
    }
   ],
   "source": [
    "# Evaluate recommender and get results for the first cutoff\n",
    "test_result_dict, test_result_string = evaluator_test.evaluateRecommender(recommender_instance)\n",
    "# test_result_dict = test_result_dict[list(test_result_dict.keys())[0]]\n",
    "\n",
    "test_time = time.time() - start_time"
   ]
  },
  {
   "cell_type": "code",
   "execution_count": 13,
   "metadata": {},
   "outputs": [
    {
     "name": "stdout",
     "output_type": "stream",
     "text": [
      "Train time:  1.0371918678283691\n",
      "\n",
      "Validation time:  7.747517824172974\n",
      "Validation result: CUTOFF: 10 - ROC_AUC: 0.0170926, PRECISION: 0.0032290, PRECISION_TEST_LEN: 0.0322901, RECALL: 0.0322901, RECALL_TEST_LEN: 0.0322901, MAP: 0.0103483, MRR: 0.0103483, NDCG: 0.0153831, F1: 0.0058709, HIT_RATE: 0.0322901, ARHR: 0.0103483, RMSE: 3.3697977, NOVELTY: 0.0300290, DIVERSITY_MEAN_INTER_LIST: 0.9498848, DIVERSITY_HERFINDAHL: 0.9949728, COVERAGE_ITEM: 0.4528594, COVERAGE_USER: 1.0000000, DIVERSITY_GINI: 0.2044271, SHANNON_ENTROPY: 8.7069995, \n",
      "\n",
      "Test time:  41.55809783935547\n",
      "Test result: CUTOFF: 5 - ROC_AUC: 0.0084865, PRECISION: 0.0034112, PRECISION_TEST_LEN: 0.0170558, RECALL: 0.0170558, RECALL_TEST_LEN: 0.0170558, MAP: 0.0077800, MRR: 0.0077800, NDCG: 0.0100495, F1: 0.0056853, HIT_RATE: 0.0170558, ARHR: 0.0077800, RMSE: 3.3767858, NOVELTY: 0.0148808, DIVERSITY_MEAN_INTER_LIST: 0.9669467, DIVERSITY_HERFINDAHL: 0.9933573, COVERAGE_ITEM: 0.3588357, COVERAGE_USER: 1.0000000, DIVERSITY_GINI: 0.2047829, SHANNON_ENTROPY: 8.3528172, \n",
      "CUTOFF: 10 - ROC_AUC: 0.0174790, PRECISION: 0.0033449, PRECISION_TEST_LEN: 0.0334492, RECALL: 0.0334492, RECALL_TEST_LEN: 0.0334492, MAP: 0.0099808, MRR: 0.0099808, NDCG: 0.0153645, F1: 0.0060817, HIT_RATE: 0.0334492, ARHR: 0.0099808, RMSE: 3.3767858, NOVELTY: 0.0300437, DIVERSITY_MEAN_INTER_LIST: 0.9498085, DIVERSITY_HERFINDAHL: 0.9949651, COVERAGE_ITEM: 0.4544049, COVERAGE_USER: 1.0000000, DIVERSITY_GINI: 0.2042123, SHANNON_ENTROPY: 8.7082423, \n",
      "CUTOFF: 15 - ROC_AUC: 0.0248149, PRECISION: 0.0030137, PRECISION_TEST_LEN: 0.0452062, RECALL: 0.0452062, RECALL_TEST_LEN: 0.0452062, MAP: 0.0108931, MRR: 0.0108931, NDCG: 0.0184594, F1: 0.0056508, HIT_RATE: 0.0452062, ARHR: 0.0108931, RMSE: 3.3767858, NOVELTY: 0.0453669, DIVERSITY_MEAN_INTER_LIST: 0.9326514, DIVERSITY_HERFINDAHL: 0.9954998, COVERAGE_ITEM: 0.4971664, COVERAGE_USER: 1.0000000, DIVERSITY_GINI: 0.2115626, SHANNON_ENTROPY: 8.8873544, \n",
      "CUTOFF: 20 - ROC_AUC: 0.0312094, PRECISION: 0.0027654, PRECISION_TEST_LEN: 0.0553072, RECALL: 0.0553072, RECALL_TEST_LEN: 0.0553072, MAP: 0.0114563, MRR: 0.0114563, NDCG: 0.0208388, F1: 0.0052673, HIT_RATE: 0.0553072, ARHR: 0.0114563, RMSE: 3.3767858, NOVELTY: 0.0606780, DIVERSITY_MEAN_INTER_LIST: 0.9178150, DIVERSITY_HERFINDAHL: 0.9958832, COVERAGE_ITEM: 0.5249871, COVERAGE_USER: 1.0000000, DIVERSITY_GINI: 0.2192280, SHANNON_ENTROPY: 9.0220929, \n",
      "CUTOFF: 25 - ROC_AUC: 0.0371129, PRECISION: 0.0025898, PRECISION_TEST_LEN: 0.0647458, RECALL: 0.0647458, RECALL_TEST_LEN: 0.0647458, MAP: 0.0118725, MRR: 0.0118725, NDCG: 0.0229059, F1: 0.0049804, HIT_RATE: 0.0647458, ARHR: 0.0118725, RMSE: 3.3767858, NOVELTY: 0.0760236, DIVERSITY_MEAN_INTER_LIST: 0.9072048, DIVERSITY_HERFINDAHL: 0.9962822, COVERAGE_ITEM: 0.5476558, COVERAGE_USER: 1.0000000, DIVERSITY_GINI: 0.2264123, SHANNON_ENTROPY: 9.1460836, \n",
      "CUTOFF: 30 - ROC_AUC: 0.0425167, PRECISION: 0.0024507, PRECISION_TEST_LEN: 0.0735221, RECALL: 0.0735221, RECALL_TEST_LEN: 0.0735221, MAP: 0.0121881, MRR: 0.0121881, NDCG: 0.0247156, F1: 0.0047434, HIT_RATE: 0.0735221, ARHR: 0.0121881, RMSE: 3.3767858, NOVELTY: 0.0914400, DIVERSITY_MEAN_INTER_LIST: 0.8994552, DIVERSITY_HERFINDAHL: 0.9966435, COVERAGE_ITEM: 0.5654302, COVERAGE_USER: 1.0000000, DIVERSITY_GINI: 0.2342481, SHANNON_ENTROPY: 9.2606214, \n",
      "\n"
     ]
    }
   ],
   "source": [
    "print('Train time: ', train_time)\n",
    "print()\n",
    "print('Validation time: ', evaluation_time)\n",
    "print('Validation result:', evaluation_result_string)\n",
    "print('Test time: ', test_time)\n",
    "print('Test result:', test_result_string)"
   ]
  },
  {
   "cell_type": "code",
   "execution_count": null,
   "metadata": {},
   "outputs": [],
   "source": []
  }
 ],
 "metadata": {
  "anaconda-cloud": {},
  "kernelspec": {
   "display_name": "Python 3",
   "language": "python",
   "name": "python3"
  },
  "language_info": {
   "codemirror_mode": {
    "name": "ipython",
    "version": 3
   },
   "file_extension": ".py",
   "mimetype": "text/x-python",
   "name": "python",
   "nbconvert_exporter": "python",
   "pygments_lexer": "ipython3",
   "version": "3.6.7"
  }
 },
 "nbformat": 4,
 "nbformat_minor": 2
}
